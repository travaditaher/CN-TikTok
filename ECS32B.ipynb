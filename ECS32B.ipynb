{
 "cells": [
  {
   "cell_type": "code",
   "execution_count": null,
   "metadata": {},
   "outputs": [],
   "source": [
    "import pandas as pd\n",
    "\n",
    "# Read Excel file\n",
    "df1 = pd.read_csv('/Users/tahers/Documents/CN-TikTok/hw5_2.csv')\n",
    "df2 = pd.read_csv('/Users/tahers/Documents/CN-TikTok/hw5_1.csv')\n",
    "\n",
    "# Calculate cumulative scores for each sheet\n",
    "df1['Cumulative Scores_x'] = df1['Total Score']\n",
    "df2['Cumulative Scores_y'] = df2['Total Score']\n",
    "\n",
    "# Merge the two dataframes using a left join on the 'SID' column\n",
    "merged_df = pd.merge(df1, df2, on='SID', how='left')\n",
    "\n",
    "# Calculate the cumulative scores from both sheets\n",
    "merged_df['Cumulative Scores'] = merged_df['Cumulative Scores_x'].fillna(0) + merged_df['Cumulative Scores_y'].fillna(0)\n",
    "\n",
    "# Create a new column 'Student' with the format 'last_name, first name'\n",
    "merged_df['Student'] = merged_df['Last Name_x'] + ', ' + merged_df['First Name_x']\n",
    "\n",
    "# Select the required columns for the final CSV\n",
    "final_df = merged_df[['SID', 'Student', 'Cumulative Scores']]\n",
    "\n",
    "# Save the final dataframe as a CSV file\n",
    "final_df.to_csv('output.csv', index=False)"
   ]
  },
  {
   "cell_type": "code",
   "execution_count": 3,
   "metadata": {},
   "outputs": [],
   "source": [
    "import pandas as pd\n",
    "\n",
    "# Read the first CSV file (canvas)\n",
    "canvas_df = pd.read_csv('/Users/tahers/Documents/CN-TikTok/Canvas.csv')\n",
    "\n",
    "# Read the second CSV file\n",
    "second_csv_df = pd.read_csv('/Users/tahers/Documents/CN-TikTok/output.csv')\n",
    "\n",
    "# Perform left join on 'Student' column\n",
    "merged_df = pd.merge(canvas_df, second_csv_df[['Student', 'Cumulative Scores']], on='Student', how='left')\n",
    "\n",
    "# Fill in the 'Homework 5' column with values from the second CSV file\n",
    "merged_df['Homework 5'] = merged_df['Cumulative Scores']\n",
    "\n",
    "# Drop the empty column used for merging\n",
    "merged_df.drop(columns=['Cumulative Scores'], inplace=True)\n",
    "\n",
    "# Save the updated dataframe to a new CSV file\n",
    "merged_df.to_csv('output_updated.csv', index=False)"
   ]
  },
  {
   "cell_type": "code",
   "execution_count": null,
   "metadata": {},
   "outputs": [],
   "source": []
  }
 ],
 "metadata": {
  "kernelspec": {
   "display_name": "Python 3",
   "language": "python",
   "name": "python3"
  },
  "language_info": {
   "codemirror_mode": {
    "name": "ipython",
    "version": 3
   },
   "file_extension": ".py",
   "mimetype": "text/x-python",
   "name": "python",
   "nbconvert_exporter": "python",
   "pygments_lexer": "ipython3",
   "version": "3.12.0"
  },
  "orig_nbformat": 4
 },
 "nbformat": 4,
 "nbformat_minor": 2
}
